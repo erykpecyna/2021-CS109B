{
 "cells": [
  {
   "cell_type": "markdown",
   "metadata": {},
   "source": [
    "# <img style=\"float: left; padding-right: 10px; width: 45px\" src=\"https://raw.githubusercontent.com/Harvard-IACS/2018-CS109A/master/content/styles/iacs.png\"> CS109B Data Science 2: Advanced Topics in Data Science \n",
    "## Lecture 3 - Coding Environment Setup and review of `statsmodels`\n",
    "###  Notebook B\n",
    "\n",
    "**Harvard University**<br>\n",
    "**Spring 2021**<br>\n",
    "**Instructors:** Mark Glickman, Pavlos Protopapas, and Chris Tanner<br>\n",
    "**Additional Instructor:** Eleni Kaxiras<br><BR>\n",
    "*Content:* Eleni Kaxiras and Will Claybaugh\n",
    "\n",
    "---"
   ]
  },
  {
   "cell_type": "code",
   "execution_count": 1,
   "metadata": {},
   "outputs": [
    {
     "data": {
      "text/html": [
       "<style>\n",
       "blockquote { background: #AEDE94; }\n",
       "h1 { \n",
       "    padding-top: 25px;\n",
       "    padding-bottom: 25px;\n",
       "    text-align: left; \n",
       "    padding-left: 10px;\n",
       "    background-color: #DDDDDD; \n",
       "    color: black;\n",
       "}\n",
       "h2 { \n",
       "    padding-top: 10px;\n",
       "    padding-bottom: 10px;\n",
       "    text-align: left; \n",
       "    padding-left: 5px;\n",
       "    background-color: #EEEEEE; \n",
       "    color: black;\n",
       "}\n",
       "\n",
       "div.exercise {\n",
       "\tbackground-color: #ffcccc;\n",
       "\tborder-color: #E9967A; \t\n",
       "\tborder-left: 5px solid #800080; \n",
       "\tpadding: 0.5em;\n",
       "}\n",
       "div.discussion {\n",
       "\tbackground-color: #ccffcc;\n",
       "\tborder-color: #88E97A;\n",
       "\tborder-left: 5px solid #0A8000; \n",
       "\tpadding: 0.5em;\n",
       "}\n",
       "div.theme {\n",
       "\tbackground-color: #DDDDDD;\n",
       "\tborder-color: #E9967A; \t\n",
       "\tborder-left: 5px solid #800080; \n",
       "\tpadding: 0.5em;\n",
       "\tfont-size: 18pt;\n",
       "}\n",
       "div.gc { \n",
       "\tbackground-color: #AEDE94;\n",
       "\tborder-color: #E9967A; \t \n",
       "\tborder-left: 5px solid #800080; \n",
       "\tpadding: 0.5em;\n",
       "\tfont-size: 12pt;\n",
       "}\n",
       "p.q1 { \n",
       "    padding-top: 5px;\n",
       "    padding-bottom: 5px;\n",
       "    text-align: left; \n",
       "    padding-left: 5px;\n",
       "    background-color: #EEEEEE; \n",
       "    color: black;\n",
       "}\n",
       "header {\n",
       "   padding-top: 35px;\n",
       "    padding-bottom: 35px;\n",
       "    text-align: left; \n",
       "    padding-left: 10px;\n",
       "    background-color: #DDDDDD; \n",
       "    color: black;\n",
       "}\n",
       "</style>\n",
       "\n"
      ],
      "text/plain": [
       "<IPython.core.display.HTML object>"
      ]
     },
     "execution_count": 1,
     "metadata": {},
     "output_type": "execute_result"
    }
   ],
   "source": [
    "## RUN THIS CELL TO PROPERLY HIGHLIGHT THE EXERCISES\n",
    "import requests\n",
    "from IPython.core.display import HTML\n",
    "styles = requests.get(\"https://raw.githubusercontent.com/Harvard-IACS/2019-CS109B/master/content/styles/cs109.css\").text\n",
    "HTML(styles)"
   ]
  },
  {
   "cell_type": "code",
   "execution_count": 2,
   "metadata": {},
   "outputs": [],
   "source": [
    "import numpy as np\n",
    "from scipy.interpolate import interp1d\n",
    "import matplotlib.pyplot as plt\n",
    "import pandas as pd\n",
    "\n",
    "%matplotlib inline "
   ]
  },
  {
   "cell_type": "markdown",
   "metadata": {},
   "source": [
    "## Learning Goals\n",
    "\n",
    "By the end of this lab, you should be able to:\n",
    "* use `np.linalg.vander`\n",
    "* use the weird R-style formulas in `statsmodels`\n",
    "* practice least-squares regression in `statsmodels`"
   ]
  },
  {
   "cell_type": "markdown",
   "metadata": {},
   "source": [
    "### Basis Functions\n",
    "\n",
    "In our models we can use various types of functions as basis functions. Strictly speaking, in linear algebra where a basis for a subspace S of $\\mathbb{R}^n$ is a set of vectors that spans S and is linearly independent. As a reminder, a set of vectors $\\textbf{v}_1, \\textbf{v}_2, ..., \\textbf{v}_k$ are considered linearly independent if they cannot be written as a linear combination of each other, such that, if: $c_1\\textbf{v}_1+c_2\\textbf{v}_2+ ...+ c_k\\textbf{v}_k = \\textbf{0}$ then $c_1,c_2,...,c_k$ are all zero. <BR>\n",
    "    \n",
    "In data science where we have lots of imperfect data (with errors), as well as imperfect computers (with round-off errors), when we substitute their values into the matrices we almost always get column degeneracy, meaning, some of our columns become linear combinations of each other. Especially so if we use the monomial basis and go beyond ~5,6 degree of the polynomial. <BR>\n",
    "\n",
    "Examples are:\n",
    "\n",
    "- Monomials such as $x,x^2,x^4,x^5$ \n",
    "- Sigmoid/ReLU functions (neural networks)\n",
    "- Fourier functions \n",
    "- Wavelets \n",
    "- Splines\n",
    "    \n",
    "The matrix produced when we substitute the values of our data into the basis functions is called the *design matrix*."
   ]
  },
  {
   "cell_type": "markdown",
   "metadata": {},
   "source": [
    "### Linear/Polynomial Regression\n",
    "\n",
    "We will use the `diabetes` dataset.\n",
    "\n",
    "Variables are:\n",
    "- subject:   subject ID number\n",
    "- age:       age diagnosed with diabetes\n",
    "- acidity:   a measure of acidity called base deficit\n",
    "Response:\n",
    "- y:         natural log of serum C-peptide concentration\n",
    "\n",
    "*Original source is Sockett et al. (1987) mentioned in Hastie and Tibshirani's book \n",
    "\"Generalized Additive Models\".*\n",
    "\n",
    "\n"
   ]
  },
  {
   "cell_type": "markdown",
   "metadata": {},
   "source": [
    "Reading the data in Pandas:"
   ]
  },
  {
   "cell_type": "code",
   "execution_count": 3,
   "metadata": {},
   "outputs": [
    {
     "data": {
      "text/html": [
       "<div>\n",
       "<style scoped>\n",
       "    .dataframe tbody tr th:only-of-type {\n",
       "        vertical-align: middle;\n",
       "    }\n",
       "\n",
       "    .dataframe tbody tr th {\n",
       "        vertical-align: top;\n",
       "    }\n",
       "\n",
       "    .dataframe thead th {\n",
       "        text-align: right;\n",
       "    }\n",
       "</style>\n",
       "<table border=\"1\" class=\"dataframe\">\n",
       "  <thead>\n",
       "    <tr style=\"text-align: right;\">\n",
       "      <th></th>\n",
       "      <th>subject</th>\n",
       "      <th>age</th>\n",
       "      <th>acidity</th>\n",
       "      <th>y</th>\n",
       "    </tr>\n",
       "  </thead>\n",
       "  <tbody>\n",
       "    <tr>\n",
       "      <th>0</th>\n",
       "      <td>1</td>\n",
       "      <td>5.2</td>\n",
       "      <td>-8.1</td>\n",
       "      <td>4.8</td>\n",
       "    </tr>\n",
       "    <tr>\n",
       "      <th>1</th>\n",
       "      <td>2</td>\n",
       "      <td>8.8</td>\n",
       "      <td>-16.1</td>\n",
       "      <td>4.1</td>\n",
       "    </tr>\n",
       "    <tr>\n",
       "      <th>2</th>\n",
       "      <td>3</td>\n",
       "      <td>10.5</td>\n",
       "      <td>-0.9</td>\n",
       "      <td>5.2</td>\n",
       "    </tr>\n",
       "    <tr>\n",
       "      <th>3</th>\n",
       "      <td>4</td>\n",
       "      <td>10.6</td>\n",
       "      <td>-7.8</td>\n",
       "      <td>5.5</td>\n",
       "    </tr>\n",
       "    <tr>\n",
       "      <th>4</th>\n",
       "      <td>5</td>\n",
       "      <td>10.4</td>\n",
       "      <td>-29.0</td>\n",
       "      <td>5.0</td>\n",
       "    </tr>\n",
       "  </tbody>\n",
       "</table>\n",
       "</div>"
      ],
      "text/plain": [
       "   subject   age  acidity    y\n",
       "0        1   5.2     -8.1  4.8\n",
       "1        2   8.8    -16.1  4.1\n",
       "2        3  10.5     -0.9  5.2\n",
       "3        4  10.6     -7.8  5.5\n",
       "4        5  10.4    -29.0  5.0"
      ]
     },
     "execution_count": 3,
     "metadata": {},
     "output_type": "execute_result"
    }
   ],
   "source": [
    "diab = pd.read_csv(\"data/diabetes.csv\")\n",
    "diab.head()"
   ]
  },
  {
   "cell_type": "markdown",
   "metadata": {},
   "source": [
    "### Create the design matrix for a fictitious dataset\n",
    "Let's keep just the `age` feature and create some columns of our own. Let's see how good this matrix is before we create the design matrix."
   ]
  },
  {
   "cell_type": "code",
   "execution_count": 4,
   "metadata": {},
   "outputs": [
    {
     "data": {
      "text/html": [
       "<div>\n",
       "<style scoped>\n",
       "    .dataframe tbody tr th:only-of-type {\n",
       "        vertical-align: middle;\n",
       "    }\n",
       "\n",
       "    .dataframe tbody tr th {\n",
       "        vertical-align: top;\n",
       "    }\n",
       "\n",
       "    .dataframe thead th {\n",
       "        text-align: right;\n",
       "    }\n",
       "</style>\n",
       "<table border=\"1\" class=\"dataframe\">\n",
       "  <thead>\n",
       "    <tr style=\"text-align: right;\">\n",
       "      <th></th>\n",
       "      <th>age</th>\n",
       "      <th>age2</th>\n",
       "      <th>random</th>\n",
       "      <th>same</th>\n",
       "    </tr>\n",
       "  </thead>\n",
       "  <tbody>\n",
       "    <tr>\n",
       "      <th>0</th>\n",
       "      <td>5.2</td>\n",
       "      <td>27.04</td>\n",
       "      <td>0.983557</td>\n",
       "      <td>5.2</td>\n",
       "    </tr>\n",
       "    <tr>\n",
       "      <th>1</th>\n",
       "      <td>8.8</td>\n",
       "      <td>77.44</td>\n",
       "      <td>-1.167022</td>\n",
       "      <td>8.8</td>\n",
       "    </tr>\n",
       "    <tr>\n",
       "      <th>2</th>\n",
       "      <td>10.5</td>\n",
       "      <td>110.25</td>\n",
       "      <td>1.167812</td>\n",
       "      <td>10.5</td>\n",
       "    </tr>\n",
       "    <tr>\n",
       "      <th>3</th>\n",
       "      <td>10.6</td>\n",
       "      <td>112.36</td>\n",
       "      <td>1.667912</td>\n",
       "      <td>10.6</td>\n",
       "    </tr>\n",
       "    <tr>\n",
       "      <th>4</th>\n",
       "      <td>10.4</td>\n",
       "      <td>108.16</td>\n",
       "      <td>1.616005</td>\n",
       "      <td>10.4</td>\n",
       "    </tr>\n",
       "  </tbody>\n",
       "</table>\n",
       "</div>"
      ],
      "text/plain": [
       "    age    age2    random  same\n",
       "0   5.2   27.04  0.983557   5.2\n",
       "1   8.8   77.44 -1.167022   8.8\n",
       "2  10.5  110.25  1.167812  10.5\n",
       "3  10.6  112.36  1.667912  10.6\n",
       "4  10.4  108.16  1.616005  10.4"
      ]
     },
     "execution_count": 4,
     "metadata": {},
     "output_type": "execute_result"
    }
   ],
   "source": [
    "diab_age = diab[['age']].copy()\n",
    "diab_age['age2'] = diab_age.apply(lambda row: row['age']**2, axis=1)\n",
    "diab_age['random'] = np.random.normal(0,1,len(diab_age)) \n",
    "diab_age['same'] = diab_age['age']\n",
    "diab_age.head()"
   ]
  },
  {
   "cell_type": "code",
   "execution_count": 5,
   "metadata": {},
   "outputs": [
    {
     "data": {
      "text/plain": [
       "array([[  5.2       ,  27.04      ,   0.98355687,   5.2       ],\n",
       "       [  8.8       ,  77.44      ,  -1.16702237,   8.8       ],\n",
       "       [ 10.5       , 110.25      ,   1.16781157,  10.5       ],\n",
       "       [ 10.6       , 112.36      ,   1.66791156,  10.6       ],\n",
       "       [ 10.4       , 108.16      ,   1.61600545,  10.4       ]])"
      ]
     },
     "execution_count": 5,
     "metadata": {},
     "output_type": "execute_result"
    }
   ],
   "source": [
    "A = diab_age.to_numpy(copy=True)\n",
    "A[:5]"
   ]
  },
  {
   "cell_type": "markdown",
   "metadata": {},
   "source": [
    "Let's check if the columns of A are linearly independent by using some linear algebra methods from `numpy.linalg` and `sympy`. "
   ]
  },
  {
   "cell_type": "code",
   "execution_count": 6,
   "metadata": {},
   "outputs": [
    {
     "data": {
      "text/plain": [
       "3"
      ]
     },
     "execution_count": 6,
     "metadata": {},
     "output_type": "execute_result"
    }
   ],
   "source": [
    "from numpy.linalg import matrix_rank\n",
    "matrix_rank(A)"
   ]
  },
  {
   "cell_type": "code",
   "execution_count": 7,
   "metadata": {},
   "outputs": [
    {
     "data": {
      "text/plain": [
       "(0, 1, 2)"
      ]
     },
     "execution_count": 7,
     "metadata": {},
     "output_type": "execute_result"
    }
   ],
   "source": [
    "# check out which rows are linearly independent\n",
    "import sympy\n",
    "_, inds = sympy.Matrix(A).T.rref() \n",
    "inds"
   ]
  },
  {
   "cell_type": "code",
   "execution_count": 8,
   "metadata": {},
   "outputs": [
    {
     "data": {
      "text/plain": [
       "7.913850862345827e+16"
      ]
     },
     "execution_count": 8,
     "metadata": {},
     "output_type": "execute_result"
    }
   ],
   "source": [
    "np.linalg.cond(A)"
   ]
  },
  {
   "cell_type": "markdown",
   "metadata": {},
   "source": [
    "### Create the design matrix for `age` using a polynomial basis\n",
    "Let's keep just the `age` feature again and create the design matrix using a polynomial of degree `n`. First we will use the basic `numpy` formula `vander()`."
   ]
  },
  {
   "cell_type": "code",
   "execution_count": 9,
   "metadata": {},
   "outputs": [
    {
     "data": {
      "text/plain": [
       "(array([[ 1. ,  5.2],\n",
       "        [ 1. ,  8.8],\n",
       "        [ 1. , 10.5]]),\n",
       " (43, 2))"
      ]
     },
     "execution_count": 9,
     "metadata": {},
     "output_type": "execute_result"
    }
   ],
   "source": [
    "vand = np.vander(diab_age.age, 2, increasing=True)\n",
    "vand[:3], vand.shape"
   ]
  },
  {
   "cell_type": "code",
   "execution_count": 10,
   "metadata": {},
   "outputs": [
    {
     "data": {
      "text/plain": [
       "(24.709088478926237, 2)"
      ]
     },
     "execution_count": 10,
     "metadata": {},
     "output_type": "execute_result"
    }
   ],
   "source": [
    "## To our point why the Vandermonde matrix is usually ill-conditioned, \n",
    "## find the condition number of this matrix\n",
    "np.linalg.cond(vand), matrix_rank(vand)"
   ]
  },
  {
   "cell_type": "markdown",
   "metadata": {},
   "source": [
    "<div class=\"exercise\"><b>Exercise</b>: Vandermonde matrix</div><BR>\n",
    "Change the degree of the polynomial and comment on what happens to the condition and rank of the matrix."
   ]
  },
  {
   "cell_type": "code",
   "execution_count": 11,
   "metadata": {},
   "outputs": [
    {
     "data": {
      "text/plain": [
       "(array([[1.00000000e+00, 5.20000000e+00, 2.70400000e+01, 1.40608000e+02,\n",
       "         7.31161600e+02, 3.80204032e+03, 1.97706097e+04, 1.02807170e+05],\n",
       "        [1.00000000e+00, 8.80000000e+00, 7.74400000e+01, 6.81472000e+02,\n",
       "         5.99695360e+03, 5.27731917e+04, 4.64404087e+05, 4.08675596e+06],\n",
       "        [1.00000000e+00, 1.05000000e+01, 1.10250000e+02, 1.15762500e+03,\n",
       "         1.21550625e+04, 1.27628156e+05, 1.34009564e+06, 1.40710042e+07]]),\n",
       " (43, 8))"
      ]
     },
     "execution_count": 11,
     "metadata": {},
     "output_type": "execute_result"
    }
   ],
   "source": [
    "vand = np.vander(diab_age.age, 8, increasing=True)\n",
    "vand[:3], vand.shape"
   ]
  },
  {
   "cell_type": "code",
   "execution_count": 12,
   "metadata": {},
   "outputs": [
    {
     "data": {
      "text/plain": [
       "(4207821284.7228603, 8)"
      ]
     },
     "execution_count": 12,
     "metadata": {},
     "output_type": "execute_result"
    }
   ],
   "source": [
    "## To our point why the Vandermonde matrix is usually ill-conditioned, \n",
    "## find the condition number of this matrix\n",
    "np.linalg.cond(vand), matrix_rank(vand)"
   ]
  },
  {
   "cell_type": "markdown",
   "metadata": {},
   "source": [
    "### Linear/Polynomial regression with statsmodels. \n",
    "\n",
    "As you remember from 109a, we have two tools for Linear Regression:\n",
    "- `statsmodels` [https://www.statsmodels.org/stable/regression.html](https://www.statsmodels.org/stable/regression.html), and \n",
    "- `sklearn`[https://scikit-learn.org/stable/index.html](https://scikit-learn.org/stable/index.html)\n",
    "\n",
    "Previously, in this notebook, we worked from a vector of target values and a design matrix we built ourself. In 109a we used e.g. `sklearn`'s PolynomialFeatures to build the matrix. Now we will look at `statsmodels` which allows users to fit statistical models using R-style **formulas**. They build the target value and design matrix for you. \n",
    "\n",
    "**Note:** Categorical features (e.g. let's say we had a categorical feature called Region, are designated by `C(Region)`), polynomial features (e.g. age) are entered as `np.power(age, n)` where `n` is the degree of the polynomial **OR** `np.vander(age, n, increasing=True)`.\n",
    "\n",
    "```\n",
    "# Example: if our target variable is 'Lottery', while 'Region' is a categorical predictor and all the others are numerical:\n",
    "df = dta.data[['Lottery', 'Literacy', 'Wealth', 'Region']]\n",
    "\n",
    "formula='Lottery ~ Literacy + Wealth + C(Region) + Literacy * Wealth'\n",
    "```\n",
    "\n",
    "For more on these formulas see:\n",
    "\n",
    "- https://www.statsmodels.org/stable/examples/notebooks/generated/formulas.html\n",
    "- https://patsy.readthedocs.io/en/latest/overview.html "
   ]
  },
  {
   "cell_type": "code",
   "execution_count": 13,
   "metadata": {},
   "outputs": [],
   "source": [
    "import statsmodels.formula.api as smf\n",
    "\n",
    "model1 = smf.ols('y ~ age', data=diab)\n",
    "fit1_lm = model1.fit()"
   ]
  },
  {
   "cell_type": "markdown",
   "metadata": {},
   "source": [
    "Let's build a dataframe to predict values on (sometimes this is just the test or validation set). Very useful for making pretty plots of the model predictions - predict for TONS of values, not just whatever's in the training set."
   ]
  },
  {
   "cell_type": "code",
   "execution_count": 14,
   "metadata": {},
   "outputs": [
    {
     "data": {
      "text/html": [
       "<div>\n",
       "<style scoped>\n",
       "    .dataframe tbody tr th:only-of-type {\n",
       "        vertical-align: middle;\n",
       "    }\n",
       "\n",
       "    .dataframe tbody tr th {\n",
       "        vertical-align: top;\n",
       "    }\n",
       "\n",
       "    .dataframe thead th {\n",
       "        text-align: right;\n",
       "    }\n",
       "</style>\n",
       "<table border=\"1\" class=\"dataframe\">\n",
       "  <thead>\n",
       "    <tr style=\"text-align: right;\">\n",
       "      <th></th>\n",
       "      <th>age</th>\n",
       "    </tr>\n",
       "  </thead>\n",
       "  <tbody>\n",
       "    <tr>\n",
       "      <th>0</th>\n",
       "      <td>0.500000</td>\n",
       "    </tr>\n",
       "    <tr>\n",
       "      <th>1</th>\n",
       "      <td>0.696970</td>\n",
       "    </tr>\n",
       "    <tr>\n",
       "      <th>2</th>\n",
       "      <td>0.893939</td>\n",
       "    </tr>\n",
       "    <tr>\n",
       "      <th>3</th>\n",
       "      <td>1.090909</td>\n",
       "    </tr>\n",
       "    <tr>\n",
       "      <th>4</th>\n",
       "      <td>1.287879</td>\n",
       "    </tr>\n",
       "  </tbody>\n",
       "</table>\n",
       "</div>"
      ],
      "text/plain": [
       "        age\n",
       "0  0.500000\n",
       "1  0.696970\n",
       "2  0.893939\n",
       "3  1.090909\n",
       "4  1.287879"
      ]
     },
     "execution_count": 14,
     "metadata": {},
     "output_type": "execute_result"
    }
   ],
   "source": [
    "x_pred = np.linspace(0.5,20,100)\n",
    "\n",
    "predict_df = pd.DataFrame(data={\"age\":x_pred})\n",
    "predict_df.head()"
   ]
  },
  {
   "cell_type": "markdown",
   "metadata": {},
   "source": [
    "Use `get_prediction(<data>).summary_frame()` to get the model's prediction (and error bars!)"
   ]
  },
  {
   "cell_type": "code",
   "execution_count": 15,
   "metadata": {},
   "outputs": [
    {
     "data": {
      "text/html": [
       "<div>\n",
       "<style scoped>\n",
       "    .dataframe tbody tr th:only-of-type {\n",
       "        vertical-align: middle;\n",
       "    }\n",
       "\n",
       "    .dataframe tbody tr th {\n",
       "        vertical-align: top;\n",
       "    }\n",
       "\n",
       "    .dataframe thead th {\n",
       "        text-align: right;\n",
       "    }\n",
       "</style>\n",
       "<table border=\"1\" class=\"dataframe\">\n",
       "  <thead>\n",
       "    <tr style=\"text-align: right;\">\n",
       "      <th></th>\n",
       "      <th>mean</th>\n",
       "      <th>mean_se</th>\n",
       "      <th>mean_ci_lower</th>\n",
       "      <th>mean_ci_upper</th>\n",
       "      <th>obs_ci_lower</th>\n",
       "      <th>obs_ci_upper</th>\n",
       "    </tr>\n",
       "  </thead>\n",
       "  <tbody>\n",
       "    <tr>\n",
       "      <th>0</th>\n",
       "      <td>4.037574</td>\n",
       "      <td>0.233301</td>\n",
       "      <td>3.566412</td>\n",
       "      <td>4.508736</td>\n",
       "      <td>2.650278</td>\n",
       "      <td>5.424870</td>\n",
       "    </tr>\n",
       "    <tr>\n",
       "      <th>1</th>\n",
       "      <td>4.053940</td>\n",
       "      <td>0.228886</td>\n",
       "      <td>3.591696</td>\n",
       "      <td>4.516184</td>\n",
       "      <td>2.669647</td>\n",
       "      <td>5.438232</td>\n",
       "    </tr>\n",
       "    <tr>\n",
       "      <th>2</th>\n",
       "      <td>4.070305</td>\n",
       "      <td>0.224489</td>\n",
       "      <td>3.616940</td>\n",
       "      <td>4.523670</td>\n",
       "      <td>2.688952</td>\n",
       "      <td>5.451658</td>\n",
       "    </tr>\n",
       "    <tr>\n",
       "      <th>3</th>\n",
       "      <td>4.086671</td>\n",
       "      <td>0.220113</td>\n",
       "      <td>3.642143</td>\n",
       "      <td>4.531198</td>\n",
       "      <td>2.708193</td>\n",
       "      <td>5.465149</td>\n",
       "    </tr>\n",
       "    <tr>\n",
       "      <th>4</th>\n",
       "      <td>4.103036</td>\n",
       "      <td>0.215759</td>\n",
       "      <td>3.667302</td>\n",
       "      <td>4.538770</td>\n",
       "      <td>2.727369</td>\n",
       "      <td>5.478703</td>\n",
       "    </tr>\n",
       "  </tbody>\n",
       "</table>\n",
       "</div>"
      ],
      "text/plain": [
       "       mean   mean_se  mean_ci_lower  mean_ci_upper  obs_ci_lower  \\\n",
       "0  4.037574  0.233301       3.566412       4.508736      2.650278   \n",
       "1  4.053940  0.228886       3.591696       4.516184      2.669647   \n",
       "2  4.070305  0.224489       3.616940       4.523670      2.688952   \n",
       "3  4.086671  0.220113       3.642143       4.531198      2.708193   \n",
       "4  4.103036  0.215759       3.667302       4.538770      2.727369   \n",
       "\n",
       "   obs_ci_upper  \n",
       "0      5.424870  \n",
       "1      5.438232  \n",
       "2      5.451658  \n",
       "3      5.465149  \n",
       "4      5.478703  "
      ]
     },
     "execution_count": 15,
     "metadata": {},
     "output_type": "execute_result"
    }
   ],
   "source": [
    "prediction_output = fit1_lm.get_prediction(predict_df).summary_frame()\n",
    "prediction_output.head()"
   ]
  },
  {
   "cell_type": "markdown",
   "metadata": {},
   "source": [
    "Plot the data, the fitted model, the **confidence intervals**, and the *prediction intervals*. For more on how `statsmodels` calculates these intervals see: https://www.statsmodels.org/stable/_modules/statsmodels/regression/_prediction.html"
   ]
  },
  {
   "cell_type": "code",
   "execution_count": 16,
   "metadata": {
    "scrolled": true
   },
   "outputs": [
    {
     "data": {
      "image/png": "[encoded data removed]",
      "text/plain": [
       "<Figure size 432x288 with 1 Axes>"
      ]
     },
     "metadata": {
      "needs_background": "light"
     },
     "output_type": "display_data"
    }
   ],
   "source": [
    "ax1 = diab.plot.scatter(x='age',y='y',c='brown',title=\"Diabetes data with least-squares linear fit\")\n",
    "ax1.set_xlabel(\"Age at Diagnosis\")\n",
    "ax1.set_ylabel(\"Log C-Peptide Concentration\")\n",
    "\n",
    "ax1.plot(predict_df.age, prediction_output['mean'],color=\"green\")\n",
    "ax1.plot(predict_df.age, prediction_output['mean_ci_lower'], color=\"blue\",linestyle=\"dashed\")\n",
    "ax1.plot(predict_df.age, prediction_output['mean_ci_upper'], color=\"blue\",linestyle=\"dashed\")\n",
    "ax1.plot(predict_df.age, prediction_output['obs_ci_lower'], color=\"green\",linestyle=\"dashdot\")\n",
    "ax1.plot(predict_df.age, prediction_output['obs_ci_upper'], color=\"green\",linestyle=\"dashdot\");"
   ]
  },
  {
   "cell_type": "markdown",
   "metadata": {},
   "source": [
    "<div class=\"exercise\"><b>Breakout Room Exercise</b></div>\n",
    "\n",
    "- Fit a 3rd degree polynomial model to predict `y` using only `age` and\n",
    "- Plot the model and its confidence intervals.\n",
    "- Change the degree of your polynomial and see what happens to the fitted curve.\n",
    "- Does our model have an intercept? *Note*: we can discover the existence or not of an intercept in our model by running:\n",
    "```\n",
    "model_name.params\n",
    "```"
   ]
  },
  {
   "cell_type": "code",
   "execution_count": 18,
   "metadata": {},
   "outputs": [],
   "source": [
    "# your answer here\n",
    "\n",
    "model2 = smf.ols(formula = 'y ~ np.vander(age, 4, increasing=True)-1', data=diab, missing='drop')\n",
    "fit2_lm = model2.fit()"
   ]
  },
  {
   "cell_type": "code",
   "execution_count": 19,
   "metadata": {},
   "outputs": [
    {
     "data": {
      "text/html": [
       "<div>\n",
       "<style scoped>\n",
       "    .dataframe tbody tr th:only-of-type {\n",
       "        vertical-align: middle;\n",
       "    }\n",
       "\n",
       "    .dataframe tbody tr th {\n",
       "        vertical-align: top;\n",
       "    }\n",
       "\n",
       "    .dataframe thead th {\n",
       "        text-align: right;\n",
       "    }\n",
       "</style>\n",
       "<table border=\"1\" class=\"dataframe\">\n",
       "  <thead>\n",
       "    <tr style=\"text-align: right;\">\n",
       "      <th></th>\n",
       "      <th>age</th>\n",
       "    </tr>\n",
       "  </thead>\n",
       "  <tbody>\n",
       "    <tr>\n",
       "      <th>0</th>\n",
       "      <td>0.500000</td>\n",
       "    </tr>\n",
       "    <tr>\n",
       "      <th>1</th>\n",
       "      <td>0.696970</td>\n",
       "    </tr>\n",
       "    <tr>\n",
       "      <th>2</th>\n",
       "      <td>0.893939</td>\n",
       "    </tr>\n",
       "    <tr>\n",
       "      <th>3</th>\n",
       "      <td>1.090909</td>\n",
       "    </tr>\n",
       "    <tr>\n",
       "      <th>4</th>\n",
       "      <td>1.287879</td>\n",
       "    </tr>\n",
       "  </tbody>\n",
       "</table>\n",
       "</div>"
      ],
      "text/plain": [
       "        age\n",
       "0  0.500000\n",
       "1  0.696970\n",
       "2  0.893939\n",
       "3  1.090909\n",
       "4  1.287879"
      ]
     },
     "execution_count": 19,
     "metadata": {},
     "output_type": "execute_result"
    }
   ],
   "source": [
    "x_pred = np.linspace(0.5,20,100)\n",
    "\n",
    "predict_df = pd.DataFrame(data={\"age\":x_pred})\n",
    "predict_df.head()"
   ]
  },
  {
   "cell_type": "code",
   "execution_count": 20,
   "metadata": {},
   "outputs": [
    {
     "data": {
      "text/html": [
       "<div>\n",
       "<style scoped>\n",
       "    .dataframe tbody tr th:only-of-type {\n",
       "        vertical-align: middle;\n",
       "    }\n",
       "\n",
       "    .dataframe tbody tr th {\n",
       "        vertical-align: top;\n",
       "    }\n",
       "\n",
       "    .dataframe thead th {\n",
       "        text-align: right;\n",
       "    }\n",
       "</style>\n",
       "<table border=\"1\" class=\"dataframe\">\n",
       "  <thead>\n",
       "    <tr style=\"text-align: right;\">\n",
       "      <th></th>\n",
       "      <th>mean</th>\n",
       "      <th>mean_se</th>\n",
       "      <th>mean_ci_lower</th>\n",
       "      <th>mean_ci_upper</th>\n",
       "      <th>obs_ci_lower</th>\n",
       "      <th>obs_ci_upper</th>\n",
       "    </tr>\n",
       "  </thead>\n",
       "  <tbody>\n",
       "    <tr>\n",
       "      <th>0</th>\n",
       "      <td>3.057129</td>\n",
       "      <td>0.405478</td>\n",
       "      <td>2.236972</td>\n",
       "      <td>3.877285</td>\n",
       "      <td>1.599098</td>\n",
       "      <td>4.515159</td>\n",
       "    </tr>\n",
       "    <tr>\n",
       "      <th>1</th>\n",
       "      <td>3.173396</td>\n",
       "      <td>0.370403</td>\n",
       "      <td>2.424185</td>\n",
       "      <td>3.922608</td>\n",
       "      <td>1.754061</td>\n",
       "      <td>4.592732</td>\n",
       "    </tr>\n",
       "    <tr>\n",
       "      <th>2</th>\n",
       "      <td>3.285013</td>\n",
       "      <td>0.338413</td>\n",
       "      <td>2.600508</td>\n",
       "      <td>3.969517</td>\n",
       "      <td>1.898743</td>\n",
       "      <td>4.671282</td>\n",
       "    </tr>\n",
       "    <tr>\n",
       "      <th>3</th>\n",
       "      <td>3.392068</td>\n",
       "      <td>0.309541</td>\n",
       "      <td>2.765962</td>\n",
       "      <td>4.018174</td>\n",
       "      <td>2.033685</td>\n",
       "      <td>4.750451</td>\n",
       "    </tr>\n",
       "    <tr>\n",
       "      <th>4</th>\n",
       "      <td>3.494653</td>\n",
       "      <td>0.283823</td>\n",
       "      <td>2.920567</td>\n",
       "      <td>4.068739</td>\n",
       "      <td>2.159449</td>\n",
       "      <td>4.829857</td>\n",
       "    </tr>\n",
       "  </tbody>\n",
       "</table>\n",
       "</div>"
      ],
      "text/plain": [
       "       mean   mean_se  mean_ci_lower  mean_ci_upper  obs_ci_lower  \\\n",
       "0  3.057129  0.405478       2.236972       3.877285      1.599098   \n",
       "1  3.173396  0.370403       2.424185       3.922608      1.754061   \n",
       "2  3.285013  0.338413       2.600508       3.969517      1.898743   \n",
       "3  3.392068  0.309541       2.765962       4.018174      2.033685   \n",
       "4  3.494653  0.283823       2.920567       4.068739      2.159449   \n",
       "\n",
       "   obs_ci_upper  \n",
       "0      4.515159  \n",
       "1      4.592732  \n",
       "2      4.671282  \n",
       "3      4.750451  \n",
       "4      4.829857  "
      ]
     },
     "execution_count": 20,
     "metadata": {},
     "output_type": "execute_result"
    }
   ],
   "source": [
    "prediction_output = fit2_lm.get_prediction(predict_df).summary_frame()\n",
    "prediction_output.head()"
   ]
  },
  {
   "cell_type": "code",
   "execution_count": 21,
   "metadata": {},
   "outputs": [
    {
     "data": {
      "image/png": "[encoded data removed]",
      "text/plain": [
       "<Figure size 432x288 with 1 Axes>"
      ]
     },
     "metadata": {
      "needs_background": "light"
     },
     "output_type": "display_data"
    }
   ],
   "source": [
    "ax2 = diab.plot.scatter(x='age',y='y',c='brown',title=\"Diabetes data with least-squares linear fit\")\n",
    "ax2.set_xlabel(\"Age at Diagnosis\")\n",
    "ax2.set_ylabel(\"Log C-Peptide Concentration\")\n",
    "\n",
    "ax2.plot(predict_df.age, prediction_output['mean'],color=\"green\")\n",
    "ax2.plot(predict_df.age, prediction_output['mean_ci_lower'], color=\"blue\",linestyle=\"dashed\")\n",
    "ax2.plot(predict_df.age, prediction_output['mean_ci_upper'], color=\"blue\",linestyle=\"dashed\")\n",
    "ax2.plot(predict_df.age, prediction_output['obs_ci_lower'], color=\"green\",linestyle=\"dashdot\")\n",
    "ax2.plot(predict_df.age, prediction_output['obs_ci_upper'], color=\"green\",linestyle=\"dashdot\");"
   ]
  },
  {
   "cell_type": "code",
   "execution_count": 22,
   "metadata": {},
   "outputs": [],
   "source": [
    "# solution \n"
   ]
  },
  {
   "cell_type": "markdown",
   "metadata": {},
   "source": [
    "<div class=\"discussion\"><b>Vandermonde matrix in formulas</b></div>\n",
    "    \n",
    "It's easier to build higher order polynomials using `np.vandrer()`."
   ]
  },
  {
   "cell_type": "code",
   "execution_count": 24,
   "metadata": {},
   "outputs": [],
   "source": [
    "formula = \"y ~ np.vander(age, 6, increasing=True) -1\" \n",
    "fit3_lm = smf.ols(formula=formula, data=diab).fit()"
   ]
  },
  {
   "cell_type": "code",
   "execution_count": 25,
   "metadata": {
    "scrolled": true
   },
   "outputs": [
    {
     "data": {
      "text/plain": [
       "np.vander(age, 6, increasing=True)[0]    3.147753\n",
       "np.vander(age, 6, increasing=True)[1]    0.130248\n",
       "np.vander(age, 6, increasing=True)[2]    0.136034\n",
       "np.vander(age, 6, increasing=True)[3]   -0.028749\n",
       "np.vander(age, 6, increasing=True)[4]    0.002064\n",
       "np.vander(age, 6, increasing=True)[5]   -0.000050\n",
       "dtype: float64"
      ]
     },
     "execution_count": 25,
     "metadata": {},
     "output_type": "execute_result"
    }
   ],
   "source": [
    "fit3_lm.params"
   ]
  },
  {
   "cell_type": "code",
   "execution_count": 26,
   "metadata": {},
   "outputs": [
    {
     "data": {
      "text/plain": [
       "11539278.6863067"
      ]
     },
     "execution_count": 26,
     "metadata": {},
     "output_type": "execute_result"
    }
   ],
   "source": [
    "## To our point why the Vandermonde matrix is usually ill-conditioned, \n",
    "# find the condition number of this matrix\n",
    "np.linalg.cond(np.vander(predict_df.age, 6, increasing=True))"
   ]
  },
  {
   "cell_type": "code",
   "execution_count": 27,
   "metadata": {},
   "outputs": [
    {
     "data": {
      "text/html": [
       "<div>\n",
       "<style scoped>\n",
       "    .dataframe tbody tr th:only-of-type {\n",
       "        vertical-align: middle;\n",
       "    }\n",
       "\n",
       "    .dataframe tbody tr th {\n",
       "        vertical-align: top;\n",
       "    }\n",
       "\n",
       "    .dataframe thead th {\n",
       "        text-align: right;\n",
       "    }\n",
       "</style>\n",
       "<table border=\"1\" class=\"dataframe\">\n",
       "  <thead>\n",
       "    <tr style=\"text-align: right;\">\n",
       "      <th></th>\n",
       "      <th>mean</th>\n",
       "      <th>mean_se</th>\n",
       "      <th>mean_ci_lower</th>\n",
       "      <th>mean_ci_upper</th>\n",
       "      <th>obs_ci_lower</th>\n",
       "      <th>obs_ci_upper</th>\n",
       "    </tr>\n",
       "  </thead>\n",
       "  <tbody>\n",
       "    <tr>\n",
       "      <th>0</th>\n",
       "      <td>3.243420</td>\n",
       "      <td>0.734767</td>\n",
       "      <td>1.754641</td>\n",
       "      <td>4.732198</td>\n",
       "      <td>1.308481</td>\n",
       "      <td>5.178358</td>\n",
       "    </tr>\n",
       "    <tr>\n",
       "      <th>1</th>\n",
       "      <td>3.295358</td>\n",
       "      <td>0.568205</td>\n",
       "      <td>2.144066</td>\n",
       "      <td>4.446650</td>\n",
       "      <td>1.606277</td>\n",
       "      <td>4.984440</td>\n",
       "    </tr>\n",
       "    <tr>\n",
       "      <th>2</th>\n",
       "      <td>3.353648</td>\n",
       "      <td>0.438495</td>\n",
       "      <td>2.465173</td>\n",
       "      <td>4.242123</td>\n",
       "      <td>1.831507</td>\n",
       "      <td>4.875789</td>\n",
       "    </tr>\n",
       "    <tr>\n",
       "      <th>3</th>\n",
       "      <td>3.417256</td>\n",
       "      <td>0.347322</td>\n",
       "      <td>2.713515</td>\n",
       "      <td>4.120997</td>\n",
       "      <td>1.995013</td>\n",
       "      <td>4.839499</td>\n",
       "    </tr>\n",
       "    <tr>\n",
       "      <th>4</th>\n",
       "      <td>3.485217</td>\n",
       "      <td>0.295584</td>\n",
       "      <td>2.886306</td>\n",
       "      <td>4.084128</td>\n",
       "      <td>2.111820</td>\n",
       "      <td>4.858614</td>\n",
       "    </tr>\n",
       "  </tbody>\n",
       "</table>\n",
       "</div>"
      ],
      "text/plain": [
       "       mean   mean_se  mean_ci_lower  mean_ci_upper  obs_ci_lower  \\\n",
       "0  3.243420  0.734767       1.754641       4.732198      1.308481   \n",
       "1  3.295358  0.568205       2.144066       4.446650      1.606277   \n",
       "2  3.353648  0.438495       2.465173       4.242123      1.831507   \n",
       "3  3.417256  0.347322       2.713515       4.120997      1.995013   \n",
       "4  3.485217  0.295584       2.886306       4.084128      2.111820   \n",
       "\n",
       "   obs_ci_upper  \n",
       "0      5.178358  \n",
       "1      4.984440  \n",
       "2      4.875789  \n",
       "3      4.839499  \n",
       "4      4.858614  "
      ]
     },
     "execution_count": 27,
     "metadata": {},
     "output_type": "execute_result"
    }
   ],
   "source": [
    "# solution \n",
    "poly_predictions = fit3_lm.get_prediction(predict_df).summary_frame()\n",
    "poly_predictions.head()"
   ]
  },
  {
   "cell_type": "code",
   "execution_count": 28,
   "metadata": {
    "scrolled": true
   },
   "outputs": [
    {
     "data": {
      "image/png": "[encoded data removed]",
      "text/plain": [
       "<Figure size 432x288 with 1 Axes>"
      ]
     },
     "metadata": {
      "needs_background": "light"
     },
     "output_type": "display_data"
    }
   ],
   "source": [
    "# solution\n",
    "x_pred = np.linspace(0.5,15,100)\n",
    "predict_df = pd.DataFrame(data={\"age\":x_pred})\n",
    "\n",
    "ax2 = diab.plot.scatter(x='age',y='y',c='Red',title=\"Diabetes data with least-squares cubic fit\")\n",
    "ax2.set_xlabel(\"Age at Diagnosis\")\n",
    "ax2.set_ylabel(\"Log C-Peptide Concentration\")\n",
    "\n",
    "ax2.plot(predict_df.age, poly_predictions['mean'],color=\"green\")\n",
    "ax2.plot(predict_df.age, poly_predictions['mean_ci_lower'], color=\"blue\",linestyle=\"dashed\", label='confidence interval')\n",
    "ax2.plot(predict_df.age, poly_predictions['mean_ci_upper'], color=\"blue\",linestyle=\"dashed\");\n",
    "ax2.legend();"
   ]
  },
  {
   "cell_type": "markdown",
   "metadata": {},
   "source": [
    "<div class=\"discussion\"><b>Discussion</b></div>"
   ]
  },
  {
   "cell_type": "markdown",
   "metadata": {},
   "source": [
    "#### QR decomposition (**Beyond the scope of this class**)\n",
    "\n",
    "As you know, to find the parameters of our model, we may try to solve the so-called *normal equations*, which, written in matrix form, are:<BR>\n",
    "\\begin{equation}\n",
    "    (\\boldsymbol{A^T}\\cdot \\boldsymbol{A}) \\cdot \\boldsymbol{b} = \\boldsymbol{A} \\cdot \\boldsymbol{y}\n",
    "\\end{equation}\n",
    "    \n",
    "The direct solution is $\\hat{\\boldsymbol{b}}=(\\boldsymbol{A}^T\\cdot \\boldsymbol{A})^{-1}\\cdot \\boldsymbol{A}^T \\cdot \\boldsymbol{y}$\n",
    "    \n",
    "Solving the least-squares problem directly via the normal equations is susceptible to roundoff error when the condition of the matrix $\\boldsymbol{A}$ is large. An alternative technique involves QR decomposition (details in any good linear algebra book). `statsmodels` lets you use this technique via a parameter in the `.fit`:\n",
    "```\n",
    "   .fit(method='qr') \n",
    "```\n",
    "    \n"
   ]
  },
  {
   "cell_type": "markdown",
   "metadata": {},
   "source": [
    "#### Let's try with QR now"
   ]
  },
  {
   "cell_type": "code",
   "execution_count": 35,
   "metadata": {},
   "outputs": [],
   "source": [
    "formula = \"y ~ np.vander(age, 6, increasing=True) -1\" \n",
    "fit3_lm = smf.ols(formula=formula, data=diab).fit(method='qr')"
   ]
  },
  {
   "cell_type": "code",
   "execution_count": 34,
   "metadata": {
    "scrolled": true
   },
   "outputs": [
    {
     "data": {
      "text/plain": [
       "np.vander(age, 6, increasing=True)[0]   NaN\n",
       "np.vander(age, 6, increasing=True)[1]   NaN\n",
       "np.vander(age, 6, increasing=True)[2]   NaN\n",
       "np.vander(age, 6, increasing=True)[3]   NaN\n",
       "np.vander(age, 6, increasing=True)[4]   NaN\n",
       "np.vander(age, 6, increasing=True)[5]   NaN\n",
       "dtype: float64"
      ]
     },
     "execution_count": 34,
     "metadata": {},
     "output_type": "execute_result"
    }
   ],
   "source": [
    "fit3_lm.params"
   ]
  },
  {
   "cell_type": "code",
   "execution_count": 31,
   "metadata": {},
   "outputs": [
    {
     "data": {
      "text/html": [
       "<div>\n",
       "<style scoped>\n",
       "    .dataframe tbody tr th:only-of-type {\n",
       "        vertical-align: middle;\n",
       "    }\n",
       "\n",
       "    .dataframe tbody tr th {\n",
       "        vertical-align: top;\n",
       "    }\n",
       "\n",
       "    .dataframe thead th {\n",
       "        text-align: right;\n",
       "    }\n",
       "</style>\n",
       "<table border=\"1\" class=\"dataframe\">\n",
       "  <thead>\n",
       "    <tr style=\"text-align: right;\">\n",
       "      <th></th>\n",
       "      <th>mean</th>\n",
       "      <th>mean_se</th>\n",
       "      <th>mean_ci_lower</th>\n",
       "      <th>mean_ci_upper</th>\n",
       "      <th>obs_ci_lower</th>\n",
       "      <th>obs_ci_upper</th>\n",
       "    </tr>\n",
       "  </thead>\n",
       "  <tbody>\n",
       "    <tr>\n",
       "      <th>0</th>\n",
       "      <td>NaN</td>\n",
       "      <td>NaN</td>\n",
       "      <td>NaN</td>\n",
       "      <td>NaN</td>\n",
       "      <td>NaN</td>\n",
       "      <td>NaN</td>\n",
       "    </tr>\n",
       "    <tr>\n",
       "      <th>1</th>\n",
       "      <td>NaN</td>\n",
       "      <td>NaN</td>\n",
       "      <td>NaN</td>\n",
       "      <td>NaN</td>\n",
       "      <td>NaN</td>\n",
       "      <td>NaN</td>\n",
       "    </tr>\n",
       "    <tr>\n",
       "      <th>2</th>\n",
       "      <td>NaN</td>\n",
       "      <td>NaN</td>\n",
       "      <td>NaN</td>\n",
       "      <td>NaN</td>\n",
       "      <td>NaN</td>\n",
       "      <td>NaN</td>\n",
       "    </tr>\n",
       "    <tr>\n",
       "      <th>3</th>\n",
       "      <td>NaN</td>\n",
       "      <td>NaN</td>\n",
       "      <td>NaN</td>\n",
       "      <td>NaN</td>\n",
       "      <td>NaN</td>\n",
       "      <td>NaN</td>\n",
       "    </tr>\n",
       "    <tr>\n",
       "      <th>4</th>\n",
       "      <td>NaN</td>\n",
       "      <td>NaN</td>\n",
       "      <td>NaN</td>\n",
       "      <td>NaN</td>\n",
       "      <td>NaN</td>\n",
       "      <td>NaN</td>\n",
       "    </tr>\n",
       "  </tbody>\n",
       "</table>\n",
       "</div>"
      ],
      "text/plain": [
       "   mean  mean_se  mean_ci_lower  mean_ci_upper  obs_ci_lower  obs_ci_upper\n",
       "0   NaN      NaN            NaN            NaN           NaN           NaN\n",
       "1   NaN      NaN            NaN            NaN           NaN           NaN\n",
       "2   NaN      NaN            NaN            NaN           NaN           NaN\n",
       "3   NaN      NaN            NaN            NaN           NaN           NaN\n",
       "4   NaN      NaN            NaN            NaN           NaN           NaN"
      ]
     },
     "execution_count": 31,
     "metadata": {},
     "output_type": "execute_result"
    }
   ],
   "source": [
    "# solution \n",
    "poly_predictions = fit3_lm.get_prediction(predict_df).summary_frame()\n",
    "poly_predictions.head()"
   ]
  },
  {
   "cell_type": "code",
   "execution_count": 32,
   "metadata": {
    "scrolled": true
   },
   "outputs": [
    {
     "data": {
      "image/png": "[encoded data removed]",
      "text/plain": [
       "<Figure size 432x288 with 1 Axes>"
      ]
     },
     "metadata": {
      "needs_background": "light"
     },
     "output_type": "display_data"
    }
   ],
   "source": [
    "# solution\n",
    "ax2 = diab.plot.scatter(x='age',y='y',c='Red',title=\"Diabetes data with least-squares cubic fit\")\n",
    "ax2.set_xlabel(\"Age at Diagnosis\")\n",
    "ax2.set_ylabel(\"Log C-Peptide Concentration\")\n",
    "\n",
    "ax2.plot(predict_df.age, poly_predictions['mean'],color=\"green\")\n",
    "ax2.plot(predict_df.age, poly_predictions['mean_ci_lower'], color=\"blue\",linestyle=\"dashed\", label='confidence interval')\n",
    "ax2.plot(predict_df.age, poly_predictions['mean_ci_upper'], color=\"blue\",linestyle=\"dashed\");\n",
    "ax2.legend();"
   ]
  },
  {
   "cell_type": "code",
   "execution_count": null,
   "metadata": {},
   "outputs": [],
   "source": []
  },
  {
   "cell_type": "code",
   "execution_count": null,
   "metadata": {},
   "outputs": [],
   "source": []
  }
 ],
 "metadata": {
  "kernelspec": {
   "display_name": "Python 3",
   "language": "python",
   "name": "python3"
  },
  "language_info": {
   "codemirror_mode": {
    "name": "ipython",
    "version": 3
   },
   "file_extension": ".py",
   "mimetype": "text/x-python",
   "name": "python",
   "nbconvert_exporter": "python",
   "pygments_lexer": "ipython3",
   "version": "3.8.6"
  }
 },
 "nbformat": 4,
 "nbformat_minor": 1
}
